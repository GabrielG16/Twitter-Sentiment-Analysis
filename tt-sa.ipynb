{
 "cells": [
  {
   "cell_type": "markdown",
   "id": "58e24100-92d3-4f29-9b41-7b07126c793b",
   "metadata": {},
   "source": [
    "# Imports"
   ]
  },
  {
   "cell_type": "code",
   "execution_count": 87,
   "id": "3725c14a-55fd-4335-8342-df17a745de19",
   "metadata": {},
   "outputs": [],
   "source": [
    "import nltk\n",
    "from   nltk.corpus import stopwords\n",
    "from   nltk.stem import PorterStemmer\n",
    "from nltk.tokenize import word_tokenize\n",
    "import os\n",
    "\n",
    "import pandas as pd\n",
    "import regex  as re\n",
    "\n",
    "from sklearn.model_selection import train_test_split, cross_val_score\n",
    "from sklearn.metrics import plot_confusion_matrix\n",
    "from sklearn.feature_extraction.text import CountVectorizer, TfidfVectorizer\n",
    "from sklearn.linear_model import LogisticRegression\n",
    "from sklearn.naive_bayes import GaussianNB, MultinomialNB\n"
   ]
  },
  {
   "cell_type": "code",
   "execution_count": 47,
   "id": "698b2648-53ee-4036-92f4-033888ac1855",
   "metadata": {},
   "outputs": [],
   "source": [
    "tt = pd.read_csv('./archive/tweets_data.csv')"
   ]
  },
  {
   "cell_type": "code",
   "execution_count": 48,
   "id": "ba3ad358-08df-4225-ba6e-9ad9259a6a90",
   "metadata": {},
   "outputs": [
    {
     "data": {
      "text/html": [
       "<div>\n",
       "<style scoped>\n",
       "    .dataframe tbody tr th:only-of-type {\n",
       "        vertical-align: middle;\n",
       "    }\n",
       "\n",
       "    .dataframe tbody tr th {\n",
       "        vertical-align: top;\n",
       "    }\n",
       "\n",
       "    .dataframe thead th {\n",
       "        text-align: right;\n",
       "    }\n",
       "</style>\n",
       "<table border=\"1\" class=\"dataframe\">\n",
       "  <thead>\n",
       "    <tr style=\"text-align: right;\">\n",
       "      <th></th>\n",
       "      <th>Unnamed: 0</th>\n",
       "      <th>id</th>\n",
       "      <th>label</th>\n",
       "      <th>tweet</th>\n",
       "    </tr>\n",
       "  </thead>\n",
       "  <tbody>\n",
       "    <tr>\n",
       "      <th>0</th>\n",
       "      <td>0</td>\n",
       "      <td>1</td>\n",
       "      <td>0</td>\n",
       "      <td>@user when a father is dysfunctional and is s...</td>\n",
       "    </tr>\n",
       "    <tr>\n",
       "      <th>1</th>\n",
       "      <td>1</td>\n",
       "      <td>2</td>\n",
       "      <td>0</td>\n",
       "      <td>@user @user thanks for #lyft credit i can't us...</td>\n",
       "    </tr>\n",
       "    <tr>\n",
       "      <th>2</th>\n",
       "      <td>2</td>\n",
       "      <td>3</td>\n",
       "      <td>0</td>\n",
       "      <td>bihday your majesty</td>\n",
       "    </tr>\n",
       "    <tr>\n",
       "      <th>3</th>\n",
       "      <td>3</td>\n",
       "      <td>4</td>\n",
       "      <td>0</td>\n",
       "      <td>#model   i love u take with u all the time in ...</td>\n",
       "    </tr>\n",
       "    <tr>\n",
       "      <th>4</th>\n",
       "      <td>4</td>\n",
       "      <td>5</td>\n",
       "      <td>0</td>\n",
       "      <td>factsguide: society now    #motivation</td>\n",
       "    </tr>\n",
       "  </tbody>\n",
       "</table>\n",
       "</div>"
      ],
      "text/plain": [
       "   Unnamed: 0  id  label                                              tweet\n",
       "0           0   1      0   @user when a father is dysfunctional and is s...\n",
       "1           1   2      0  @user @user thanks for #lyft credit i can't us...\n",
       "2           2   3      0                                bihday your majesty\n",
       "3           3   4      0  #model   i love u take with u all the time in ...\n",
       "4           4   5      0             factsguide: society now    #motivation"
      ]
     },
     "execution_count": 48,
     "metadata": {},
     "output_type": "execute_result"
    }
   ],
   "source": [
    "tt.head()"
   ]
  },
  {
   "cell_type": "markdown",
   "id": "b746d2a1-cb07-4a61-9860-0f5651df0e49",
   "metadata": {},
   "source": [
    "Labels: <br>\n",
    "    0 = Positive sentiment <br>\n",
    "    1 = Negative sentiment"
   ]
  },
  {
   "cell_type": "markdown",
   "id": "a39756b1-9abe-4339-8138-dc08664340ad",
   "metadata": {},
   "source": [
    "# Remoção de  colunas não utilizadas"
   ]
  },
  {
   "cell_type": "code",
   "execution_count": 49,
   "id": "d3155783-89d1-43b6-969d-7435204ebffa",
   "metadata": {},
   "outputs": [],
   "source": [
    "tt.drop(['Unnamed: 0', 'id'], axis = 1, inplace = True)"
   ]
  },
  {
   "cell_type": "code",
   "execution_count": 50,
   "id": "d5ecd930-eeb0-43ed-be98-552cf4815f7d",
   "metadata": {},
   "outputs": [
    {
     "data": {
      "text/html": [
       "<div>\n",
       "<style scoped>\n",
       "    .dataframe tbody tr th:only-of-type {\n",
       "        vertical-align: middle;\n",
       "    }\n",
       "\n",
       "    .dataframe tbody tr th {\n",
       "        vertical-align: top;\n",
       "    }\n",
       "\n",
       "    .dataframe thead th {\n",
       "        text-align: right;\n",
       "    }\n",
       "</style>\n",
       "<table border=\"1\" class=\"dataframe\">\n",
       "  <thead>\n",
       "    <tr style=\"text-align: right;\">\n",
       "      <th></th>\n",
       "      <th>label</th>\n",
       "      <th>tweet</th>\n",
       "    </tr>\n",
       "  </thead>\n",
       "  <tbody>\n",
       "    <tr>\n",
       "      <th>0</th>\n",
       "      <td>0</td>\n",
       "      <td>@user when a father is dysfunctional and is s...</td>\n",
       "    </tr>\n",
       "    <tr>\n",
       "      <th>1</th>\n",
       "      <td>0</td>\n",
       "      <td>@user @user thanks for #lyft credit i can't us...</td>\n",
       "    </tr>\n",
       "    <tr>\n",
       "      <th>2</th>\n",
       "      <td>0</td>\n",
       "      <td>bihday your majesty</td>\n",
       "    </tr>\n",
       "    <tr>\n",
       "      <th>3</th>\n",
       "      <td>0</td>\n",
       "      <td>#model   i love u take with u all the time in ...</td>\n",
       "    </tr>\n",
       "    <tr>\n",
       "      <th>4</th>\n",
       "      <td>0</td>\n",
       "      <td>factsguide: society now    #motivation</td>\n",
       "    </tr>\n",
       "  </tbody>\n",
       "</table>\n",
       "</div>"
      ],
      "text/plain": [
       "   label                                              tweet\n",
       "0      0   @user when a father is dysfunctional and is s...\n",
       "1      0  @user @user thanks for #lyft credit i can't us...\n",
       "2      0                                bihday your majesty\n",
       "3      0  #model   i love u take with u all the time in ...\n",
       "4      0             factsguide: society now    #motivation"
      ]
     },
     "execution_count": 50,
     "metadata": {},
     "output_type": "execute_result"
    }
   ],
   "source": [
    "tt.head()"
   ]
  },
  {
   "cell_type": "markdown",
   "id": "9593d145-ad0b-4301-8849-5ebd72977edb",
   "metadata": {},
   "source": [
    "### Lower Casing"
   ]
  },
  {
   "cell_type": "code",
   "execution_count": 51,
   "id": "48a8a307-f333-46cd-8313-484724faaff1",
   "metadata": {},
   "outputs": [],
   "source": [
    "tt['tweet'] = tt.tweet.str.lower()"
   ]
  },
  {
   "cell_type": "markdown",
   "id": "d5952fa7-e22f-405c-91f8-0a284d4c5346",
   "metadata": {},
   "source": [
    "### Newlines"
   ]
  },
  {
   "cell_type": "code",
   "execution_count": 52,
   "id": "68064367-2373-4837-acea-72ba1e840cde",
   "metadata": {},
   "outputs": [],
   "source": [
    "def replace_newline(word):\n",
    "    return word.replace('\\n','')"
   ]
  },
  {
   "cell_type": "code",
   "execution_count": 53,
   "id": "58a860d2-2268-4000-bd18-ed83c9e48693",
   "metadata": {},
   "outputs": [],
   "source": [
    "tt['tweet'] = tt.tweet.apply(replace_newline)"
   ]
  },
  {
   "cell_type": "markdown",
   "id": "eb2622d1-4f5f-4a61-83b2-2ebfea749661",
   "metadata": {},
   "source": [
    "### Remoção de mentions e hashtags"
   ]
  },
  {
   "cell_type": "code",
   "execution_count": 54,
   "id": "1a81f98b-2680-4d58-8051-370fd649d029",
   "metadata": {},
   "outputs": [],
   "source": [
    "def remove_mentions(sentence):\n",
    "    no_mention = re.sub(r\"@\\S+\", \"\", sentence)\n",
    "    return no_mention\n",
    "\n",
    "def remove_hashtags(sentence):\n",
    "    no_hashtag = re.sub(r\"#\", \"\", sentence)\n",
    "    return no_hashtag"
   ]
  },
  {
   "cell_type": "code",
   "execution_count": 55,
   "id": "5ab9c4c8-ed41-4cca-91f8-c2513fb6c8e0",
   "metadata": {},
   "outputs": [],
   "source": [
    "tt['tweet'] = tt.tweet.apply(remove_mentions)\n",
    "tt['tweet'] = tt.tweet.apply(remove_hashtags)"
   ]
  },
  {
   "cell_type": "code",
   "execution_count": 56,
   "id": "1575ac5b-bd02-41ce-bb82-7d970c9b6e19",
   "metadata": {},
   "outputs": [
    {
     "data": {
      "text/plain": [
       "0          when a father is dysfunctional and is so sel...\n",
       "1          thanks for lyft credit i can't use cause the...\n",
       "2                                      bihday your majesty\n",
       "3        model   i love u take with u all the time in u...\n",
       "4                    factsguide: society now    motivation\n",
       "                               ...                        \n",
       "31957    ate  isz that youuu?ððððððð...\n",
       "31958      to see nina turner on the airwaves trying to...\n",
       "31959    listening to sad songs on a monday morning otw...\n",
       "31960     sikh temple vandalised in in calgary, wso con...\n",
       "31961                          thank you  for you follow  \n",
       "Name: tweet, Length: 31962, dtype: object"
      ]
     },
     "execution_count": 56,
     "metadata": {},
     "output_type": "execute_result"
    }
   ],
   "source": [
    "tt.tweet"
   ]
  },
  {
   "cell_type": "markdown",
   "id": "34c5de95-1d63-4935-9059-64cd60c75b95",
   "metadata": {},
   "source": [
    "### Remoção de pontuação "
   ]
  },
  {
   "cell_type": "code",
   "execution_count": 57,
   "id": "26e58516-d92b-4040-8fc9-7df81feff5e3",
   "metadata": {},
   "outputs": [],
   "source": [
    "def remove_punctuation(sentence):\n",
    "    punctuation = ['.','?',',','!', ':', ';','>','<','/','*','+','&','(',')', '\"',\"'\"]\n",
    "    translate_table = str.maketrans(dict.fromkeys(punctuation, ''))\n",
    "    no_punctuation = sentence.translate(translate_table)\n",
    "    \n",
    "    return no_punctuation"
   ]
  },
  {
   "cell_type": "code",
   "execution_count": 58,
   "id": "38f4d2e4-f503-484b-b977-d82b885dce42",
   "metadata": {},
   "outputs": [],
   "source": [
    "tt['tweet'] = tt.tweet.apply(remove_punctuation)"
   ]
  },
  {
   "cell_type": "markdown",
   "id": "40488789-001d-4c7b-bd28-c0838be229c3",
   "metadata": {},
   "source": [
    "### Remoção de Stopwords"
   ]
  },
  {
   "cell_type": "code",
   "execution_count": 59,
   "id": "517f59c1-347a-4487-ad5e-56f765ab3883",
   "metadata": {},
   "outputs": [],
   "source": [
    "stopwordz = stopwords.words('english')"
   ]
  },
  {
   "cell_type": "code",
   "execution_count": 60,
   "id": "ffb2b0ec-dcf7-41e1-a00e-c236cd239ae5",
   "metadata": {},
   "outputs": [],
   "source": [
    "def remove_stopwords(sentence):\n",
    "    sentence = sentence.split()\n",
    "    list_sentence = [word for word in sentence if word not in stopwordz]\n",
    "    return ' '.join(list_sentence)"
   ]
  },
  {
   "cell_type": "code",
   "execution_count": 61,
   "id": "630c433c-4035-48c4-a1b8-d4b0077bde9a",
   "metadata": {},
   "outputs": [],
   "source": [
    "tt['tweet'] = tt.tweet.apply(remove_stopwords)"
   ]
  },
  {
   "cell_type": "code",
   "execution_count": 62,
   "id": "3e2bc197-9ec1-4617-97ad-9a4e1e3c6730",
   "metadata": {},
   "outputs": [
    {
     "data": {
      "text/html": [
       "<div>\n",
       "<style scoped>\n",
       "    .dataframe tbody tr th:only-of-type {\n",
       "        vertical-align: middle;\n",
       "    }\n",
       "\n",
       "    .dataframe tbody tr th {\n",
       "        vertical-align: top;\n",
       "    }\n",
       "\n",
       "    .dataframe thead th {\n",
       "        text-align: right;\n",
       "    }\n",
       "</style>\n",
       "<table border=\"1\" class=\"dataframe\">\n",
       "  <thead>\n",
       "    <tr style=\"text-align: right;\">\n",
       "      <th></th>\n",
       "      <th>label</th>\n",
       "      <th>tweet</th>\n",
       "    </tr>\n",
       "  </thead>\n",
       "  <tbody>\n",
       "    <tr>\n",
       "      <th>0</th>\n",
       "      <td>0</td>\n",
       "      <td>father dysfunctional selfish drags kids dysfun...</td>\n",
       "    </tr>\n",
       "    <tr>\n",
       "      <th>1</th>\n",
       "      <td>0</td>\n",
       "      <td>thanks lyft credit cant use cause dont offer w...</td>\n",
       "    </tr>\n",
       "    <tr>\n",
       "      <th>2</th>\n",
       "      <td>0</td>\n",
       "      <td>bihday majesty</td>\n",
       "    </tr>\n",
       "    <tr>\n",
       "      <th>3</th>\n",
       "      <td>0</td>\n",
       "      <td>model love u take u time urð± ðððð...</td>\n",
       "    </tr>\n",
       "    <tr>\n",
       "      <th>4</th>\n",
       "      <td>0</td>\n",
       "      <td>factsguide society motivation</td>\n",
       "    </tr>\n",
       "  </tbody>\n",
       "</table>\n",
       "</div>"
      ],
      "text/plain": [
       "   label                                              tweet\n",
       "0      0  father dysfunctional selfish drags kids dysfun...\n",
       "1      0  thanks lyft credit cant use cause dont offer w...\n",
       "2      0                                     bihday majesty\n",
       "3      0  model love u take u time urð± ðððð...\n",
       "4      0                      factsguide society motivation"
      ]
     },
     "execution_count": 62,
     "metadata": {},
     "output_type": "execute_result"
    }
   ],
   "source": [
    "tt.head()"
   ]
  },
  {
   "cell_type": "markdown",
   "id": "4b54ece3-3456-458f-80ea-d5a183ecf553",
   "metadata": {},
   "source": [
    "### Remover números"
   ]
  },
  {
   "cell_type": "code",
   "execution_count": 63,
   "id": "a1b3e659-befe-4b7f-a3f5-33d8d2304c7b",
   "metadata": {},
   "outputs": [],
   "source": [
    "def remove_number(word):\n",
    "    result = re.sub(r'\\d+', '', word)\n",
    "    return result"
   ]
  },
  {
   "cell_type": "code",
   "execution_count": 64,
   "id": "1605b16e-7821-4fd6-beca-971dd63dd869",
   "metadata": {},
   "outputs": [],
   "source": [
    "tt['tweet'] = tt.tweet.apply(remove_number)"
   ]
  },
  {
   "cell_type": "code",
   "execution_count": null,
   "id": "f59af013-7401-4eed-83d2-bdbe992e7076",
   "metadata": {},
   "outputs": [],
   "source": []
  },
  {
   "cell_type": "markdown",
   "id": "57361773-95ee-4cc3-b8f3-150833b6300e",
   "metadata": {},
   "source": [
    "### Remove Hyperlinks"
   ]
  },
  {
   "cell_type": "code",
   "execution_count": 65,
   "id": "a18fa1c0-0477-49f4-a156-c3b9732ab909",
   "metadata": {},
   "outputs": [],
   "source": [
    "def remove_hyperlink(sentence):       \n",
    "    return re.sub(r\"http\\S+\", \"\", sentence)"
   ]
  },
  {
   "cell_type": "code",
   "execution_count": 66,
   "id": "b0570794-f453-440a-8999-9860310ab61d",
   "metadata": {},
   "outputs": [],
   "source": [
    "tt['tweet'] = tt.tweet.apply(remove_hyperlink)"
   ]
  },
  {
   "cell_type": "code",
   "execution_count": 67,
   "id": "baf625f0-c314-4824-ac8f-aef440e188cf",
   "metadata": {},
   "outputs": [],
   "source": [
    "def remove_special_chars(sentence):\n",
    "    return re.sub(r'[^a-zA-Z0-9]', ' ', sentence)"
   ]
  },
  {
   "cell_type": "code",
   "execution_count": 68,
   "id": "c85cb179-c132-4f75-acc6-43dcae0b24c9",
   "metadata": {},
   "outputs": [],
   "source": [
    "tt['tweet'] = tt.tweet.apply(remove_special_chars)"
   ]
  },
  {
   "cell_type": "code",
   "execution_count": 69,
   "id": "fe2bc938-1e10-4e47-8471-eda60255296c",
   "metadata": {},
   "outputs": [
    {
     "data": {
      "text/html": [
       "<div>\n",
       "<style scoped>\n",
       "    .dataframe tbody tr th:only-of-type {\n",
       "        vertical-align: middle;\n",
       "    }\n",
       "\n",
       "    .dataframe tbody tr th {\n",
       "        vertical-align: top;\n",
       "    }\n",
       "\n",
       "    .dataframe thead th {\n",
       "        text-align: right;\n",
       "    }\n",
       "</style>\n",
       "<table border=\"1\" class=\"dataframe\">\n",
       "  <thead>\n",
       "    <tr style=\"text-align: right;\">\n",
       "      <th></th>\n",
       "      <th>label</th>\n",
       "      <th>tweet</th>\n",
       "    </tr>\n",
       "  </thead>\n",
       "  <tbody>\n",
       "    <tr>\n",
       "      <th>0</th>\n",
       "      <td>0</td>\n",
       "      <td>father dysfunctional selfish drags kids dysfun...</td>\n",
       "    </tr>\n",
       "    <tr>\n",
       "      <th>1</th>\n",
       "      <td>0</td>\n",
       "      <td>thanks lyft credit cant use cause dont offer w...</td>\n",
       "    </tr>\n",
       "    <tr>\n",
       "      <th>2</th>\n",
       "      <td>0</td>\n",
       "      <td>bihday majesty</td>\n",
       "    </tr>\n",
       "    <tr>\n",
       "      <th>3</th>\n",
       "      <td>0</td>\n",
       "      <td>model love u take u time ur                   ...</td>\n",
       "    </tr>\n",
       "    <tr>\n",
       "      <th>4</th>\n",
       "      <td>0</td>\n",
       "      <td>factsguide society motivation</td>\n",
       "    </tr>\n",
       "  </tbody>\n",
       "</table>\n",
       "</div>"
      ],
      "text/plain": [
       "   label                                              tweet\n",
       "0      0  father dysfunctional selfish drags kids dysfun...\n",
       "1      0  thanks lyft credit cant use cause dont offer w...\n",
       "2      0                                     bihday majesty\n",
       "3      0  model love u take u time ur                   ...\n",
       "4      0                      factsguide society motivation"
      ]
     },
     "execution_count": 69,
     "metadata": {},
     "output_type": "execute_result"
    }
   ],
   "source": [
    "tt.head()"
   ]
  },
  {
   "cell_type": "markdown",
   "id": "b0b29ffb-6601-4ee8-9566-47208979997b",
   "metadata": {},
   "source": [
    "### Remoção whitespaces"
   ]
  },
  {
   "cell_type": "code",
   "execution_count": 70,
   "id": "75fc6f6e-afcb-4f31-93b0-80aea195be77",
   "metadata": {},
   "outputs": [],
   "source": [
    "tt['tweet'] = tt.tweet.str.strip()"
   ]
  },
  {
   "cell_type": "markdown",
   "id": "0ac24be8-b70d-4d25-a006-b1daf7fce349",
   "metadata": {},
   "source": [
    "### Tokenizing "
   ]
  },
  {
   "cell_type": "code",
   "execution_count": 71,
   "id": "9b7e445f-c6de-4640-a090-bf69cc094648",
   "metadata": {},
   "outputs": [],
   "source": [
    "tt['tweet'] = tt['tweet'].apply(word_tokenize)"
   ]
  },
  {
   "cell_type": "code",
   "execution_count": 72,
   "id": "13370986-e225-44ef-8ba1-2c28f864d859",
   "metadata": {},
   "outputs": [
    {
     "data": {
      "text/html": [
       "<div>\n",
       "<style scoped>\n",
       "    .dataframe tbody tr th:only-of-type {\n",
       "        vertical-align: middle;\n",
       "    }\n",
       "\n",
       "    .dataframe tbody tr th {\n",
       "        vertical-align: top;\n",
       "    }\n",
       "\n",
       "    .dataframe thead th {\n",
       "        text-align: right;\n",
       "    }\n",
       "</style>\n",
       "<table border=\"1\" class=\"dataframe\">\n",
       "  <thead>\n",
       "    <tr style=\"text-align: right;\">\n",
       "      <th></th>\n",
       "      <th>label</th>\n",
       "      <th>tweet</th>\n",
       "    </tr>\n",
       "  </thead>\n",
       "  <tbody>\n",
       "    <tr>\n",
       "      <th>0</th>\n",
       "      <td>0</td>\n",
       "      <td>[father, dysfunctional, selfish, drags, kids, ...</td>\n",
       "    </tr>\n",
       "    <tr>\n",
       "      <th>1</th>\n",
       "      <td>0</td>\n",
       "      <td>[thanks, lyft, credit, cant, use, cause, dont,...</td>\n",
       "    </tr>\n",
       "    <tr>\n",
       "      <th>2</th>\n",
       "      <td>0</td>\n",
       "      <td>[bihday, majesty]</td>\n",
       "    </tr>\n",
       "    <tr>\n",
       "      <th>3</th>\n",
       "      <td>0</td>\n",
       "      <td>[model, love, u, take, u, time, ur]</td>\n",
       "    </tr>\n",
       "    <tr>\n",
       "      <th>4</th>\n",
       "      <td>0</td>\n",
       "      <td>[factsguide, society, motivation]</td>\n",
       "    </tr>\n",
       "  </tbody>\n",
       "</table>\n",
       "</div>"
      ],
      "text/plain": [
       "   label                                              tweet\n",
       "0      0  [father, dysfunctional, selfish, drags, kids, ...\n",
       "1      0  [thanks, lyft, credit, cant, use, cause, dont,...\n",
       "2      0                                  [bihday, majesty]\n",
       "3      0                [model, love, u, take, u, time, ur]\n",
       "4      0                  [factsguide, society, motivation]"
      ]
     },
     "execution_count": 72,
     "metadata": {},
     "output_type": "execute_result"
    }
   ],
   "source": [
    "tt.head()"
   ]
  },
  {
   "cell_type": "markdown",
   "id": "304ccb10-2f68-4f76-ac2e-15afe5ecdf36",
   "metadata": {},
   "source": [
    "### Stemming "
   ]
  },
  {
   "cell_type": "code",
   "execution_count": 73,
   "id": "0edea571-4890-4e97-bbe4-921da02af131",
   "metadata": {},
   "outputs": [],
   "source": [
    "def stem_words(sentence):\n",
    "    stemmer = PorterStemmer()\n",
    "    return ' '.join([stemmer.stem(word) for word in sentence])"
   ]
  },
  {
   "cell_type": "code",
   "execution_count": 74,
   "id": "9cb573e7-80e6-4e56-972c-aaf180ff153f",
   "metadata": {},
   "outputs": [],
   "source": [
    "tt['tweet'] = tt.tweet.apply(stem_words)"
   ]
  },
  {
   "cell_type": "code",
   "execution_count": 75,
   "id": "ff9ed575-6cc2-44c0-bb4e-7fdfbd502eae",
   "metadata": {},
   "outputs": [
    {
     "data": {
      "text/html": [
       "<div>\n",
       "<style scoped>\n",
       "    .dataframe tbody tr th:only-of-type {\n",
       "        vertical-align: middle;\n",
       "    }\n",
       "\n",
       "    .dataframe tbody tr th {\n",
       "        vertical-align: top;\n",
       "    }\n",
       "\n",
       "    .dataframe thead th {\n",
       "        text-align: right;\n",
       "    }\n",
       "</style>\n",
       "<table border=\"1\" class=\"dataframe\">\n",
       "  <thead>\n",
       "    <tr style=\"text-align: right;\">\n",
       "      <th></th>\n",
       "      <th>label</th>\n",
       "      <th>tweet</th>\n",
       "    </tr>\n",
       "  </thead>\n",
       "  <tbody>\n",
       "    <tr>\n",
       "      <th>0</th>\n",
       "      <td>0</td>\n",
       "      <td>father dysfunct selfish drag kid dysfunct run</td>\n",
       "    </tr>\n",
       "    <tr>\n",
       "      <th>1</th>\n",
       "      <td>0</td>\n",
       "      <td>thank lyft credit cant use caus dont offer whe...</td>\n",
       "    </tr>\n",
       "    <tr>\n",
       "      <th>2</th>\n",
       "      <td>0</td>\n",
       "      <td>bihday majesti</td>\n",
       "    </tr>\n",
       "    <tr>\n",
       "      <th>3</th>\n",
       "      <td>0</td>\n",
       "      <td>model love u take u time ur</td>\n",
       "    </tr>\n",
       "    <tr>\n",
       "      <th>4</th>\n",
       "      <td>0</td>\n",
       "      <td>factsguid societi motiv</td>\n",
       "    </tr>\n",
       "  </tbody>\n",
       "</table>\n",
       "</div>"
      ],
      "text/plain": [
       "   label                                              tweet\n",
       "0      0      father dysfunct selfish drag kid dysfunct run\n",
       "1      0  thank lyft credit cant use caus dont offer whe...\n",
       "2      0                                     bihday majesti\n",
       "3      0                        model love u take u time ur\n",
       "4      0                            factsguid societi motiv"
      ]
     },
     "execution_count": 75,
     "metadata": {},
     "output_type": "execute_result"
    }
   ],
   "source": [
    "tt.head()"
   ]
  },
  {
   "cell_type": "markdown",
   "id": "e0903753-7572-4a6c-8c5a-46feb52ed20c",
   "metadata": {},
   "source": [
    "## Feture Engineering"
   ]
  },
  {
   "cell_type": "code",
   "execution_count": 131,
   "id": "00efb944-a20e-4218-8dd0-15353339ebbd",
   "metadata": {},
   "outputs": [],
   "source": [
    "X_train, X_test, y_train, y_test = train_test_split(tt.tweet, tt.label, test_size = 0.2)                                    "
   ]
  },
  {
   "cell_type": "markdown",
   "id": "0e29c721-ef24-4fba-b440-861cebbba40f",
   "metadata": {},
   "source": [
    "## Embedding"
   ]
  },
  {
   "cell_type": "code",
   "execution_count": 133,
   "id": "b6506ba2-ca0f-4a23-a5f7-646c6048cac7",
   "metadata": {},
   "outputs": [],
   "source": [
    "bow = CountVectorizer(max_features = 3000, min_df=2, max_df = 0.9)"
   ]
  },
  {
   "cell_type": "code",
   "execution_count": 134,
   "id": "c1181966-ad1b-4921-8907-2bb485a086bc",
   "metadata": {},
   "outputs": [],
   "source": [
    "X_train = bow.fit_transform(X_train).toarray()"
   ]
  },
  {
   "cell_type": "code",
   "execution_count": 102,
   "id": "00be17d8-ea8d-488a-8ab8-61eae1fec067",
   "metadata": {},
   "outputs": [],
   "source": [
    "tfidf = TfidfVectorizer(max_features = 3000, min_df = 3)"
   ]
  },
  {
   "cell_type": "code",
   "execution_count": 103,
   "id": "b71a7f60-47cc-4483-8694-1b30dac1aa5e",
   "metadata": {},
   "outputs": [],
   "source": [
    "embedded_input = tfidf.fit_transform(X_train).toarray()"
   ]
  },
  {
   "cell_type": "code",
   "execution_count": 93,
   "id": "f925187e-9d06-4e40-b974-0061d447a2ec",
   "metadata": {},
   "outputs": [
    {
     "data": {
      "text/plain": [
       "(31962, 3000)"
      ]
     },
     "execution_count": 93,
     "metadata": {},
     "output_type": "execute_result"
    }
   ],
   "source": [
    "embedded_input.shape"
   ]
  },
  {
   "cell_type": "code",
   "execution_count": 135,
   "id": "cdf7758c-684a-4a27-afcf-2f4b9ebec5aa",
   "metadata": {},
   "outputs": [],
   "source": [
    "model = MultinomialNB()"
   ]
  },
  {
   "cell_type": "code",
   "execution_count": 136,
   "id": "6d724276-e9fd-4f5a-a92f-a9f240fc4760",
   "metadata": {},
   "outputs": [
    {
     "data": {
      "text/plain": [
       "MultinomialNB()"
      ]
     },
     "execution_count": 136,
     "metadata": {},
     "output_type": "execute_result"
    }
   ],
   "source": [
    "model.fit(X_train, y_train)"
   ]
  },
  {
   "cell_type": "code",
   "execution_count": 137,
   "id": "c9008e00-63d6-475e-a1df-885bb37503c1",
   "metadata": {},
   "outputs": [
    {
     "data": {
      "text/plain": [
       "array([0.59570957, 0.61926606, 0.63354037])"
      ]
     },
     "execution_count": 137,
     "metadata": {},
     "output_type": "execute_result"
    }
   ],
   "source": [
    "cross_val_score(model, X_train, y_train, cv = 3, scoring = 'f1')"
   ]
  },
  {
   "cell_type": "code",
   "execution_count": 139,
   "id": "213b0538-e10d-4d46-9b9c-a1484a93548d",
   "metadata": {},
   "outputs": [],
   "source": [
    "X_test = bow.fit_transform(X_test).toarray()"
   ]
  },
  {
   "cell_type": "code",
   "execution_count": 140,
   "id": "4f6b2c07-c9b8-4ed4-aee6-99a265ee5e8a",
   "metadata": {},
   "outputs": [
    {
     "name": "stderr",
     "output_type": "stream",
     "text": [
      "/home/gabriel/anaconda3/envs/nlp-env/lib/python3.10/site-packages/sklearn/utils/deprecation.py:87: FutureWarning: Function plot_confusion_matrix is deprecated; Function `plot_confusion_matrix` is deprecated in 1.0 and will be removed in 1.2. Use one of the class methods: ConfusionMatrixDisplay.from_predictions or ConfusionMatrixDisplay.from_estimator.\n",
      "  warnings.warn(msg, category=FutureWarning)\n"
     ]
    },
    {
     "data": {
      "text/plain": [
       "<sklearn.metrics._plot.confusion_matrix.ConfusionMatrixDisplay at 0x7f700e460d00>"
      ]
     },
     "execution_count": 140,
     "metadata": {},
     "output_type": "execute_result"
    },
    {
     "data": {
      "image/png": "[encoded data removed]",
      "text/plain": [
       "<Figure size 432x288 with 2 Axes>"
      ]
     },
     "metadata": {
      "needs_background": "light"
     },
     "output_type": "display_data"
    }
   ],
   "source": [
    "plot_confusion_matrix(model, X_test, y_test)"
   ]
  },
  {
   "cell_type": "code",
   "execution_count": null,
   "id": "54f50ea8-9efa-4a91-9b3d-dbd71bc55ba6",
   "metadata": {},
   "outputs": [],
   "source": []
  }
 ],
 "metadata": {
  "kernelspec": {
   "display_name": "Python 3 (ipykernel)",
   "language": "python",
   "name": "python3"
  },
  "language_info": {
   "codemirror_mode": {
    "name": "ipython",
    "version": 3
   },
   "file_extension": ".py",
   "mimetype": "text/x-python",
   "name": "python",
   "nbconvert_exporter": "python",
   "pygments_lexer": "ipython3",
   "version": "3.10.4"
  }
 },
 "nbformat": 4,
 "nbformat_minor": 5
}
