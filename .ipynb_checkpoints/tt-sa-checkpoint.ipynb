{
 "cells": [
  {
   "cell_type": "markdown",
   "id": "58e24100-92d3-4f29-9b41-7b07126c793b",
   "metadata": {},
   "source": [
    "# Imports"
   ]
  },
  {
   "cell_type": "code",
   "execution_count": 1,
   "id": "3725c14a-55fd-4335-8342-df17a745de19",
   "metadata": {},
   "outputs": [],
   "source": [
    "import nltk\n",
    "from   nltk.corpus import stopwords\n",
    "from   nltk.stem import PorterStemmer\n",
    "from nltk.tokenize import word_tokenize\n",
    "import os\n",
    "\n",
    "import pandas as pd\n",
    "import regex  as re\n",
    "\n",
    "from sklearn.model_selection import train_test_split\n",
    "from sklearn.feature_extraction.text import CountVectorizer, TfidfVectorizer\n",
    "from sklearn.linear_model import LogisticRegression\n",
    "from sklearn.naive_bayes import GaussianNB"
   ]
  },
  {
   "cell_type": "code",
   "execution_count": 2,
   "id": "698b2648-53ee-4036-92f4-033888ac1855",
   "metadata": {},
   "outputs": [],
   "source": [
    "tt = pd.read_csv('./archive/tweets_data.csv')"
   ]
  },
  {
   "cell_type": "code",
   "execution_count": 3,
   "id": "ba3ad358-08df-4225-ba6e-9ad9259a6a90",
   "metadata": {},
   "outputs": [
    {
     "data": {
      "text/html": [
       "<div>\n",
       "<style scoped>\n",
       "    .dataframe tbody tr th:only-of-type {\n",
       "        vertical-align: middle;\n",
       "    }\n",
       "\n",
       "    .dataframe tbody tr th {\n",
       "        vertical-align: top;\n",
       "    }\n",
       "\n",
       "    .dataframe thead th {\n",
       "        text-align: right;\n",
       "    }\n",
       "</style>\n",
       "<table border=\"1\" class=\"dataframe\">\n",
       "  <thead>\n",
       "    <tr style=\"text-align: right;\">\n",
       "      <th></th>\n",
       "      <th>Unnamed: 0</th>\n",
       "      <th>id</th>\n",
       "      <th>label</th>\n",
       "      <th>tweet</th>\n",
       "    </tr>\n",
       "  </thead>\n",
       "  <tbody>\n",
       "    <tr>\n",
       "      <th>0</th>\n",
       "      <td>0</td>\n",
       "      <td>1</td>\n",
       "      <td>0</td>\n",
       "      <td>@user when a father is dysfunctional and is s...</td>\n",
       "    </tr>\n",
       "    <tr>\n",
       "      <th>1</th>\n",
       "      <td>1</td>\n",
       "      <td>2</td>\n",
       "      <td>0</td>\n",
       "      <td>@user @user thanks for #lyft credit i can't us...</td>\n",
       "    </tr>\n",
       "    <tr>\n",
       "      <th>2</th>\n",
       "      <td>2</td>\n",
       "      <td>3</td>\n",
       "      <td>0</td>\n",
       "      <td>bihday your majesty</td>\n",
       "    </tr>\n",
       "    <tr>\n",
       "      <th>3</th>\n",
       "      <td>3</td>\n",
       "      <td>4</td>\n",
       "      <td>0</td>\n",
       "      <td>#model   i love u take with u all the time in ...</td>\n",
       "    </tr>\n",
       "    <tr>\n",
       "      <th>4</th>\n",
       "      <td>4</td>\n",
       "      <td>5</td>\n",
       "      <td>0</td>\n",
       "      <td>factsguide: society now    #motivation</td>\n",
       "    </tr>\n",
       "  </tbody>\n",
       "</table>\n",
       "</div>"
      ],
      "text/plain": [
       "   Unnamed: 0  id  label                                              tweet\n",
       "0           0   1      0   @user when a father is dysfunctional and is s...\n",
       "1           1   2      0  @user @user thanks for #lyft credit i can't us...\n",
       "2           2   3      0                                bihday your majesty\n",
       "3           3   4      0  #model   i love u take with u all the time in ...\n",
       "4           4   5      0             factsguide: society now    #motivation"
      ]
     },
     "execution_count": 3,
     "metadata": {},
     "output_type": "execute_result"
    }
   ],
   "source": [
    "tt.head()"
   ]
  },
  {
   "cell_type": "markdown",
   "id": "b746d2a1-cb07-4a61-9860-0f5651df0e49",
   "metadata": {},
   "source": [
    "Labels: <br>\n",
    "    0 = Positive sentiment <br>\n",
    "    1 = Negative sentiment"
   ]
  },
  {
   "cell_type": "markdown",
   "id": "a39756b1-9abe-4339-8138-dc08664340ad",
   "metadata": {},
   "source": [
    "# Remoção de  colunas não utilizadas"
   ]
  },
  {
   "cell_type": "code",
   "execution_count": 4,
   "id": "d3155783-89d1-43b6-969d-7435204ebffa",
   "metadata": {},
   "outputs": [],
   "source": [
    "tt.drop(['Unnamed: 0', 'id'], axis = 1, inplace = True)"
   ]
  },
  {
   "cell_type": "code",
   "execution_count": 5,
   "id": "d5ecd930-eeb0-43ed-be98-552cf4815f7d",
   "metadata": {},
   "outputs": [
    {
     "data": {
      "text/html": [
       "<div>\n",
       "<style scoped>\n",
       "    .dataframe tbody tr th:only-of-type {\n",
       "        vertical-align: middle;\n",
       "    }\n",
       "\n",
       "    .dataframe tbody tr th {\n",
       "        vertical-align: top;\n",
       "    }\n",
       "\n",
       "    .dataframe thead th {\n",
       "        text-align: right;\n",
       "    }\n",
       "</style>\n",
       "<table border=\"1\" class=\"dataframe\">\n",
       "  <thead>\n",
       "    <tr style=\"text-align: right;\">\n",
       "      <th></th>\n",
       "      <th>label</th>\n",
       "      <th>tweet</th>\n",
       "    </tr>\n",
       "  </thead>\n",
       "  <tbody>\n",
       "    <tr>\n",
       "      <th>0</th>\n",
       "      <td>0</td>\n",
       "      <td>@user when a father is dysfunctional and is s...</td>\n",
       "    </tr>\n",
       "    <tr>\n",
       "      <th>1</th>\n",
       "      <td>0</td>\n",
       "      <td>@user @user thanks for #lyft credit i can't us...</td>\n",
       "    </tr>\n",
       "    <tr>\n",
       "      <th>2</th>\n",
       "      <td>0</td>\n",
       "      <td>bihday your majesty</td>\n",
       "    </tr>\n",
       "    <tr>\n",
       "      <th>3</th>\n",
       "      <td>0</td>\n",
       "      <td>#model   i love u take with u all the time in ...</td>\n",
       "    </tr>\n",
       "    <tr>\n",
       "      <th>4</th>\n",
       "      <td>0</td>\n",
       "      <td>factsguide: society now    #motivation</td>\n",
       "    </tr>\n",
       "  </tbody>\n",
       "</table>\n",
       "</div>"
      ],
      "text/plain": [
       "   label                                              tweet\n",
       "0      0   @user when a father is dysfunctional and is s...\n",
       "1      0  @user @user thanks for #lyft credit i can't us...\n",
       "2      0                                bihday your majesty\n",
       "3      0  #model   i love u take with u all the time in ...\n",
       "4      0             factsguide: society now    #motivation"
      ]
     },
     "execution_count": 5,
     "metadata": {},
     "output_type": "execute_result"
    }
   ],
   "source": [
    "tt.head()"
   ]
  },
  {
   "cell_type": "markdown",
   "id": "9593d145-ad0b-4301-8849-5ebd72977edb",
   "metadata": {},
   "source": [
    "### Lower Casing"
   ]
  },
  {
   "cell_type": "code",
   "execution_count": 6,
   "id": "48a8a307-f333-46cd-8313-484724faaff1",
   "metadata": {},
   "outputs": [],
   "source": [
    "tt['tweet'] = tt.tweet.str.lower()"
   ]
  },
  {
   "cell_type": "markdown",
   "id": "eb2622d1-4f5f-4a61-83b2-2ebfea749661",
   "metadata": {},
   "source": [
    "### Remoção de mentions e hashtags"
   ]
  },
  {
   "cell_type": "code",
   "execution_count": 7,
   "id": "1a81f98b-2680-4d58-8051-370fd649d029",
   "metadata": {},
   "outputs": [],
   "source": [
    "def remove_mentions(sentence):\n",
    "    no_mention = re.sub(r\"@\\S+\", \"\", sentence)\n",
    "    return no_mention\n",
    "\n",
    "def remove_hashtags(sentence):\n",
    "    no_hashtag = re.sub(r\"#\", \"\", sentence)\n",
    "    return no_hashtag"
   ]
  },
  {
   "cell_type": "code",
   "execution_count": 8,
   "id": "5ab9c4c8-ed41-4cca-91f8-c2513fb6c8e0",
   "metadata": {},
   "outputs": [],
   "source": [
    "tt['tweet'] = tt.tweet.apply(remove_mentions)\n",
    "tt['tweet'] = tt.tweet.apply(remove_hashtags)"
   ]
  },
  {
   "cell_type": "code",
   "execution_count": 9,
   "id": "1575ac5b-bd02-41ce-bb82-7d970c9b6e19",
   "metadata": {},
   "outputs": [
    {
     "data": {
      "text/html": [
       "<div>\n",
       "<style scoped>\n",
       "    .dataframe tbody tr th:only-of-type {\n",
       "        vertical-align: middle;\n",
       "    }\n",
       "\n",
       "    .dataframe tbody tr th {\n",
       "        vertical-align: top;\n",
       "    }\n",
       "\n",
       "    .dataframe thead th {\n",
       "        text-align: right;\n",
       "    }\n",
       "</style>\n",
       "<table border=\"1\" class=\"dataframe\">\n",
       "  <thead>\n",
       "    <tr style=\"text-align: right;\">\n",
       "      <th></th>\n",
       "      <th>label</th>\n",
       "      <th>tweet</th>\n",
       "    </tr>\n",
       "  </thead>\n",
       "  <tbody>\n",
       "    <tr>\n",
       "      <th>0</th>\n",
       "      <td>0</td>\n",
       "      <td>when a father is dysfunctional and is so sel...</td>\n",
       "    </tr>\n",
       "    <tr>\n",
       "      <th>1</th>\n",
       "      <td>0</td>\n",
       "      <td>thanks for lyft credit i can't use cause the...</td>\n",
       "    </tr>\n",
       "    <tr>\n",
       "      <th>2</th>\n",
       "      <td>0</td>\n",
       "      <td>bihday your majesty</td>\n",
       "    </tr>\n",
       "    <tr>\n",
       "      <th>3</th>\n",
       "      <td>0</td>\n",
       "      <td>model   i love u take with u all the time in u...</td>\n",
       "    </tr>\n",
       "    <tr>\n",
       "      <th>4</th>\n",
       "      <td>0</td>\n",
       "      <td>factsguide: society now    motivation</td>\n",
       "    </tr>\n",
       "  </tbody>\n",
       "</table>\n",
       "</div>"
      ],
      "text/plain": [
       "   label                                              tweet\n",
       "0      0    when a father is dysfunctional and is so sel...\n",
       "1      0    thanks for lyft credit i can't use cause the...\n",
       "2      0                                bihday your majesty\n",
       "3      0  model   i love u take with u all the time in u...\n",
       "4      0              factsguide: society now    motivation"
      ]
     },
     "execution_count": 9,
     "metadata": {},
     "output_type": "execute_result"
    }
   ],
   "source": [
    "tt.head()"
   ]
  },
  {
   "cell_type": "markdown",
   "id": "34c5de95-1d63-4935-9059-64cd60c75b95",
   "metadata": {},
   "source": [
    "### Remoção de pontuação "
   ]
  },
  {
   "cell_type": "code",
   "execution_count": 10,
   "id": "26e58516-d92b-4040-8fc9-7df81feff5e3",
   "metadata": {},
   "outputs": [],
   "source": [
    "def remove_punctuation(sentence):\n",
    "    punctuation = ['.','?',',','!', ':', ';']\n",
    "    translate_table = str.maketrans(dict.fromkeys(punctuation, ''))\n",
    "    no_punctuation = sentence.translate(translate_table)\n",
    "    \n",
    "    return no_punctuation"
   ]
  },
  {
   "cell_type": "code",
   "execution_count": 11,
   "id": "38f4d2e4-f503-484b-b977-d82b885dce42",
   "metadata": {},
   "outputs": [],
   "source": [
    "tt['tweet'] = tt.tweet.apply(remove_punctuation)"
   ]
  },
  {
   "cell_type": "markdown",
   "id": "40488789-001d-4c7b-bd28-c0838be229c3",
   "metadata": {},
   "source": [
    "### Remoção de Stopwords"
   ]
  },
  {
   "cell_type": "code",
   "execution_count": 12,
   "id": "517f59c1-347a-4487-ad5e-56f765ab3883",
   "metadata": {},
   "outputs": [],
   "source": [
    "stopwordz = stopwords.words('english')"
   ]
  },
  {
   "cell_type": "code",
   "execution_count": 13,
   "id": "ffb2b0ec-dcf7-41e1-a00e-c236cd239ae5",
   "metadata": {},
   "outputs": [],
   "source": [
    "def remove_stopwords(sentence):\n",
    "    sentence = sentence.split()\n",
    "    list_sentence = [word for word in sentence if word not in stopwordz]\n",
    "    return ' '.join(list_sentence)"
   ]
  },
  {
   "cell_type": "code",
   "execution_count": 14,
   "id": "630c433c-4035-48c4-a1b8-d4b0077bde9a",
   "metadata": {},
   "outputs": [],
   "source": [
    "tt['tweet'] = tt.tweet.apply(remove_stopwords)"
   ]
  },
  {
   "cell_type": "code",
   "execution_count": 15,
   "id": "3e2bc197-9ec1-4617-97ad-9a4e1e3c6730",
   "metadata": {},
   "outputs": [
    {
     "data": {
      "text/html": [
       "<div>\n",
       "<style scoped>\n",
       "    .dataframe tbody tr th:only-of-type {\n",
       "        vertical-align: middle;\n",
       "    }\n",
       "\n",
       "    .dataframe tbody tr th {\n",
       "        vertical-align: top;\n",
       "    }\n",
       "\n",
       "    .dataframe thead th {\n",
       "        text-align: right;\n",
       "    }\n",
       "</style>\n",
       "<table border=\"1\" class=\"dataframe\">\n",
       "  <thead>\n",
       "    <tr style=\"text-align: right;\">\n",
       "      <th></th>\n",
       "      <th>label</th>\n",
       "      <th>tweet</th>\n",
       "    </tr>\n",
       "  </thead>\n",
       "  <tbody>\n",
       "    <tr>\n",
       "      <th>0</th>\n",
       "      <td>0</td>\n",
       "      <td>father dysfunctional selfish drags kids dysfun...</td>\n",
       "    </tr>\n",
       "    <tr>\n",
       "      <th>1</th>\n",
       "      <td>0</td>\n",
       "      <td>thanks lyft credit can't use cause offer wheel...</td>\n",
       "    </tr>\n",
       "    <tr>\n",
       "      <th>2</th>\n",
       "      <td>0</td>\n",
       "      <td>bihday majesty</td>\n",
       "    </tr>\n",
       "    <tr>\n",
       "      <th>3</th>\n",
       "      <td>0</td>\n",
       "      <td>model love u take u time urð± ðððð...</td>\n",
       "    </tr>\n",
       "    <tr>\n",
       "      <th>4</th>\n",
       "      <td>0</td>\n",
       "      <td>factsguide society motivation</td>\n",
       "    </tr>\n",
       "  </tbody>\n",
       "</table>\n",
       "</div>"
      ],
      "text/plain": [
       "   label                                              tweet\n",
       "0      0  father dysfunctional selfish drags kids dysfun...\n",
       "1      0  thanks lyft credit can't use cause offer wheel...\n",
       "2      0                                     bihday majesty\n",
       "3      0  model love u take u time urð± ðððð...\n",
       "4      0                      factsguide society motivation"
      ]
     },
     "execution_count": 15,
     "metadata": {},
     "output_type": "execute_result"
    }
   ],
   "source": [
    "tt.head()"
   ]
  },
  {
   "cell_type": "markdown",
   "id": "57361773-95ee-4cc3-b8f3-150833b6300e",
   "metadata": {},
   "source": [
    "### Remove Hyperlinks"
   ]
  },
  {
   "cell_type": "code",
   "execution_count": 16,
   "id": "a18fa1c0-0477-49f4-a156-c3b9732ab909",
   "metadata": {},
   "outputs": [],
   "source": [
    "def remove_hyperlink(sentence):       \n",
    "    return re.sub(r\"http\\S+\", \"\", sentence)"
   ]
  },
  {
   "cell_type": "code",
   "execution_count": 17,
   "id": "b0570794-f453-440a-8999-9860310ab61d",
   "metadata": {},
   "outputs": [],
   "source": [
    "tt['tweet'] = tt.tweet.apply(remove_hyperlink)"
   ]
  },
  {
   "cell_type": "markdown",
   "id": "0ac24be8-b70d-4d25-a006-b1daf7fce349",
   "metadata": {},
   "source": [
    "### Tokenizing "
   ]
  },
  {
   "cell_type": "code",
   "execution_count": 18,
   "id": "9b7e445f-c6de-4640-a090-bf69cc094648",
   "metadata": {},
   "outputs": [],
   "source": [
    "tt['tweet'] = tt['tweet'].apply(word_tokenize)"
   ]
  },
  {
   "cell_type": "markdown",
   "id": "304ccb10-2f68-4f76-ac2e-15afe5ecdf36",
   "metadata": {},
   "source": [
    "### Stemming "
   ]
  },
  {
   "cell_type": "code",
   "execution_count": 19,
   "id": "0edea571-4890-4e97-bbe4-921da02af131",
   "metadata": {},
   "outputs": [],
   "source": [
    "def stem_words(sentence):\n",
    "    stemmer = PorterStemmer()\n",
    "    return ' '.join([stemmer.stem(word) for word in sentence])"
   ]
  },
  {
   "cell_type": "code",
   "execution_count": 20,
   "id": "9cb573e7-80e6-4e56-972c-aaf180ff153f",
   "metadata": {},
   "outputs": [],
   "source": [
    "tt['tweet'] = tt.tweet.apply(stem_words)"
   ]
  },
  {
   "cell_type": "code",
   "execution_count": 21,
   "id": "ff9ed575-6cc2-44c0-bb4e-7fdfbd502eae",
   "metadata": {},
   "outputs": [
    {
     "data": {
      "text/html": [
       "<div>\n",
       "<style scoped>\n",
       "    .dataframe tbody tr th:only-of-type {\n",
       "        vertical-align: middle;\n",
       "    }\n",
       "\n",
       "    .dataframe tbody tr th {\n",
       "        vertical-align: top;\n",
       "    }\n",
       "\n",
       "    .dataframe thead th {\n",
       "        text-align: right;\n",
       "    }\n",
       "</style>\n",
       "<table border=\"1\" class=\"dataframe\">\n",
       "  <thead>\n",
       "    <tr style=\"text-align: right;\">\n",
       "      <th></th>\n",
       "      <th>label</th>\n",
       "      <th>tweet</th>\n",
       "    </tr>\n",
       "  </thead>\n",
       "  <tbody>\n",
       "    <tr>\n",
       "      <th>0</th>\n",
       "      <td>0</td>\n",
       "      <td>father dysfunct selfish drag kid dysfunct run</td>\n",
       "    </tr>\n",
       "    <tr>\n",
       "      <th>1</th>\n",
       "      <td>0</td>\n",
       "      <td>thank lyft credit ca n't use caus offer wheelc...</td>\n",
       "    </tr>\n",
       "    <tr>\n",
       "      <th>2</th>\n",
       "      <td>0</td>\n",
       "      <td>bihday majesti</td>\n",
       "    </tr>\n",
       "    <tr>\n",
       "      <th>3</th>\n",
       "      <td>0</td>\n",
       "      <td>model love u take u time urð± ðððð...</td>\n",
       "    </tr>\n",
       "    <tr>\n",
       "      <th>4</th>\n",
       "      <td>0</td>\n",
       "      <td>factsguid societi motiv</td>\n",
       "    </tr>\n",
       "  </tbody>\n",
       "</table>\n",
       "</div>"
      ],
      "text/plain": [
       "   label                                              tweet\n",
       "0      0      father dysfunct selfish drag kid dysfunct run\n",
       "1      0  thank lyft credit ca n't use caus offer wheelc...\n",
       "2      0                                     bihday majesti\n",
       "3      0  model love u take u time urð± ðððð...\n",
       "4      0                            factsguid societi motiv"
      ]
     },
     "execution_count": 21,
     "metadata": {},
     "output_type": "execute_result"
    }
   ],
   "source": [
    "tt.head()"
   ]
  },
  {
   "cell_type": "markdown",
   "id": "0e29c721-ef24-4fba-b440-861cebbba40f",
   "metadata": {},
   "source": [
    "## Embedding"
   ]
  },
  {
   "cell_type": "code",
   "execution_count": 40,
   "id": "b6506ba2-ca0f-4a23-a5f7-646c6048cac7",
   "metadata": {},
   "outputs": [],
   "source": [
    "bow = CountVectorizer(max_features =100000,min_df=2)"
   ]
  },
  {
   "cell_type": "code",
   "execution_count": 41,
   "id": "c1181966-ad1b-4921-8907-2bb485a086bc",
   "metadata": {},
   "outputs": [],
   "source": [
    "embedded_input = bow.fit_transform(tt.tweet).toarray()"
   ]
  },
  {
   "cell_type": "code",
   "execution_count": 42,
   "id": "f925187e-9d06-4e40-b974-0061d447a2ec",
   "metadata": {},
   "outputs": [
    {
     "data": {
      "text/plain": [
       "(31962, 12723)"
      ]
     },
     "execution_count": 42,
     "metadata": {},
     "output_type": "execute_result"
    }
   ],
   "source": [
    "embedded_input.shape"
   ]
  },
  {
   "cell_type": "markdown",
   "id": "e0903753-7572-4a6c-8c5a-46feb52ed20c",
   "metadata": {},
   "source": [
    "## Feture Engineering"
   ]
  },
  {
   "cell_type": "code",
   "execution_count": 43,
   "id": "2127cd12-2708-47f0-9436-f60dd5e8cbc8",
   "metadata": {},
   "outputs": [],
   "source": [
    "X = embedded_input\n",
    "y = tt.label"
   ]
  },
  {
   "cell_type": "code",
   "execution_count": null,
   "id": "00efb944-a20e-4218-8dd0-15353339ebbd",
   "metadata": {},
   "outputs": [],
   "source": [
    "X_train, y_train, X_test, y_test = train_test_split(X, y, test_size = 0.2)                                    "
   ]
  },
  {
   "cell_type": "code",
   "execution_count": null,
   "id": "cdf7758c-684a-4a27-afcf-2f4b9ebec5aa",
   "metadata": {},
   "outputs": [],
   "source": []
  },
  {
   "cell_type": "code",
   "execution_count": null,
   "id": "6d724276-e9fd-4f5a-a92f-a9f240fc4760",
   "metadata": {},
   "outputs": [],
   "source": []
  },
  {
   "cell_type": "code",
   "execution_count": null,
   "id": "c9008e00-63d6-475e-a1df-885bb37503c1",
   "metadata": {},
   "outputs": [],
   "source": []
  }
 ],
 "metadata": {
  "kernelspec": {
   "display_name": "Python 3 (ipykernel)",
   "language": "python",
   "name": "python3"
  },
  "language_info": {
   "codemirror_mode": {
    "name": "ipython",
    "version": 3
   },
   "file_extension": ".py",
   "mimetype": "text/x-python",
   "name": "python",
   "nbconvert_exporter": "python",
   "pygments_lexer": "ipython3",
   "version": "3.10.4"
  }
 },
 "nbformat": 4,
 "nbformat_minor": 5
}
